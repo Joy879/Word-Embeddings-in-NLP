{
 "cells": [
  {
   "cell_type": "markdown",
   "id": "02b47756",
   "metadata": {},
   "source": [
    "#### 1. What is the difference between Sigmoid and Softmax activation?\n"
   ]
  },
  {
   "cell_type": "markdown",
   "id": "6dc9cf00",
   "metadata": {},
   "source": [
    "Use cases\n",
    "* sigmoid function is used for _binary classification_\n",
    "* softmax is used for _multiclass classification_"
   ]
  },
  {
   "cell_type": "markdown",
   "id": "064e64a1",
   "metadata": {},
   "source": [
    "Both functions give outputs in terms of probabilities.\n",
    "* For softmax the _sum of all probabilities has to be 1_. And when using it for multiclass classification, the class to be selecetd will have a higher probability than other classes.\n",
    "* For sigmoid the _sum of probabilities does not have to be one_. "
   ]
  },
  {
   "cell_type": "markdown",
   "id": "dd065bf0",
   "metadata": {},
   "source": [
    "#### 2. How does cross-entropy loss function change for Binary Classification task vs Multi-Class Classification task?\n"
   ]
  },
  {
   "cell_type": "markdown",
   "id": "63f52909",
   "metadata": {},
   "source": [
    "For binary classification, cross entropy simply can be summarized as\n",
    "\n",
    "\n",
    "            "
   ]
  },
  {
   "cell_type": "code",
   "execution_count": null,
   "id": "5acfc259",
   "metadata": {},
   "outputs": [],
   "source": [
    "For multiclass classification the cross entropy is a cumulative sum of all classes crossentropy"
   ]
  },
  {
   "cell_type": "markdown",
   "id": "a7e7b96f",
   "metadata": {},
   "source": [
    "#### 3. On the Lab Notebook, try running the code with a different dataset of your choice.\n"
   ]
  },
  {
   "cell_type": "markdown",
   "id": "ea4bca2a",
   "metadata": {},
   "source": [
    "#### 4. Apply PCA/T-SNE or both to reduce the N dimensions to 2D space and visualize the word embeddings. Please write-up your observations on the same.\n"
   ]
  },
  {
   "cell_type": "markdown",
   "id": "b7b111fb",
   "metadata": {},
   "source": [
    "[T-SNE reference](https://www.kaggle.com/code/jeffd23/visualizing-word-vectors-with-t-sne/notebook)\n",
    "\n",
    "\n",
    "\n",
    "[PCA reference](https://towardsdatascience.com/visualization-of-word-embedding-vectors-using-gensim-and-pca-8f592a5d3354)\n"
   ]
  },
  {
   "cell_type": "code",
   "execution_count": null,
   "id": "d1b4a2cf",
   "metadata": {},
   "outputs": [],
   "source": []
  }
 ],
 "metadata": {
  "kernelspec": {
   "display_name": "Python 3 (ipykernel)",
   "language": "python",
   "name": "python3"
  },
  "language_info": {
   "codemirror_mode": {
    "name": "ipython",
    "version": 3
   },
   "file_extension": ".py",
   "mimetype": "text/x-python",
   "name": "python",
   "nbconvert_exporter": "python",
   "pygments_lexer": "ipython3",
   "version": "3.8.8"
  }
 },
 "nbformat": 4,
 "nbformat_minor": 5
}
