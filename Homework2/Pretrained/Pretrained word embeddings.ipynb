{
 "cells": [
  {
   "cell_type": "code",
   "execution_count": 2,
   "id": "ce16cb5d",
   "metadata": {},
   "outputs": [],
   "source": [
    "#importing libraries\n",
    "import pandas as pd\n",
    "import numpy as np\n",
    "\n",
    "#reading csv files\n",
    "train = pd.read_csv('Data/Train.csv')\n",
    "valid = pd.read_csv('Data/Valid.csv')             \n",
    "\n",
    "#train_test split\n",
    "x_tr, y_tr = train['text'].values, train['label'].values\n",
    "x_val, y_val = valid['text'].values, valid['label'].values"
   ]
  },
  {
   "cell_type": "code",
   "execution_count": 6,
   "id": "a4497581",
   "metadata": {},
   "outputs": [],
   "source": [
    "from keras.preprocessing.text import Tokenizer\n",
    "from keras_preprocessing.sequence import pad_sequences\n",
    "\n",
    "#Tokenize the sentences\n",
    "tokenizer = Tokenizer()\n",
    "\n",
    "#preparing vocabulary\n",
    "tokenizer.fit_on_texts(list(x_tr))\n",
    "\n",
    "#converting text into integer sequences\n",
    "x_tr_seq  = tokenizer.texts_to_sequences(x_tr) \n",
    "x_val_seq = tokenizer.texts_to_sequences(x_val)\n",
    "\n",
    "#padding to prepare sequences of same length\n",
    "x_tr_seq  = pad_sequences(x_tr_seq, maxlen=100)\n",
    "x_val_seq = pad_sequences(x_val_seq, maxlen=100)"
   ]
  },
  {
   "cell_type": "code",
   "execution_count": 7,
   "id": "1c4b09a3",
   "metadata": {},
   "outputs": [
    {
     "name": "stdout",
     "output_type": "stream",
     "text": [
      "112204\n"
     ]
    }
   ],
   "source": [
    "size_of_vocabulary=len(tokenizer.word_index) + 1 #+1 for padding\n",
    "print(size_of_vocabulary)"
   ]
  },
  {
   "cell_type": "code",
   "execution_count": 8,
   "id": "6268c61b",
   "metadata": {},
   "outputs": [
    {
     "name": "stdout",
     "output_type": "stream",
     "text": [
      "Model: \"sequential\"\n",
      "_________________________________________________________________\n",
      " Layer (type)                Output Shape              Param #   \n",
      "=================================================================\n",
      " embedding (Embedding)       (None, 100, 300)          33661200  \n",
      "                                                                 \n",
      " lstm (LSTM)                 (None, 100, 128)          219648    \n",
      "                                                                 \n",
      " global_max_pooling1d (Globa  (None, 128)              0         \n",
      " lMaxPooling1D)                                                  \n",
      "                                                                 \n",
      " dense (Dense)               (None, 64)                8256      \n",
      "                                                                 \n",
      " dense_1 (Dense)             (None, 1)                 65        \n",
      "                                                                 \n",
      "=================================================================\n",
      "Total params: 33,889,169\n",
      "Trainable params: 33,889,169\n",
      "Non-trainable params: 0\n",
      "_________________________________________________________________\n",
      "None\n"
     ]
    }
   ],
   "source": [
    "#deep learning library\n",
    "from keras.models import *\n",
    "from keras.layers import *\n",
    "from keras.callbacks import *\n",
    "\n",
    "model=Sequential()\n",
    "\n",
    "#embedding layer\n",
    "model.add(Embedding(size_of_vocabulary,300,input_length=100,trainable=True)) \n",
    "\n",
    "#lstm layer\n",
    "model.add(LSTM(128,return_sequences=True,dropout=0.2))\n",
    "\n",
    "#Global Maxpooling\n",
    "model.add(GlobalMaxPooling1D())\n",
    "\n",
    "#Dense Layer\n",
    "model.add(Dense(64,activation='relu')) \n",
    "model.add(Dense(1,activation='sigmoid')) \n",
    "\n",
    "#Add loss function, metrics, optimizer\n",
    "model.compile(optimizer='adam', loss='binary_crossentropy',metrics=[\"acc\"]) \n",
    "\n",
    "#Adding callbacks\n",
    "es = EarlyStopping(monitor='val_loss', mode='min', verbose=1,patience=3)  \n",
    "mc=ModelCheckpoint('best_model.h5', monitor='val_acc', mode='max', save_best_only=True,verbose=1)  \n",
    "\n",
    "#Print summary of model\n",
    "print(model.summary())"
   ]
  },
  {
   "cell_type": "code",
   "execution_count": 9,
   "id": "789a7015",
   "metadata": {},
   "outputs": [],
   "source": [
    "import numpy as np"
   ]
  },
  {
   "cell_type": "code",
   "execution_count": 10,
   "id": "fc642c8e",
   "metadata": {},
   "outputs": [
    {
     "name": "stdout",
     "output_type": "stream",
     "text": [
      "Epoch 1/10\n",
      "313/313 [==============================] - ETA: 0s - loss: 0.4082 - acc: 0.8036\n",
      "Epoch 1: val_acc improved from -inf to 0.86720, saving model to best_model.h5\n",
      "313/313 [==============================] - 446s 1s/step - loss: 0.4082 - acc: 0.8036 - val_loss: 0.3102 - val_acc: 0.8672\n",
      "Epoch 2/10\n",
      "313/313 [==============================] - ETA: 0s - loss: 0.2051 - acc: 0.9210\n",
      "Epoch 2: val_acc improved from 0.86720 to 0.86740, saving model to best_model.h5\n",
      "313/313 [==============================] - 435s 1s/step - loss: 0.2051 - acc: 0.9210 - val_loss: 0.3211 - val_acc: 0.8674\n",
      "Epoch 3/10\n",
      "313/313 [==============================] - ETA: 0s - loss: 0.1042 - acc: 0.9628\n",
      "Epoch 3: val_acc did not improve from 0.86740\n",
      "313/313 [==============================] - 437s 1s/step - loss: 0.1042 - acc: 0.9628 - val_loss: 0.3978 - val_acc: 0.8634\n",
      "Epoch 4/10\n",
      "313/313 [==============================] - ETA: 0s - loss: 0.0506 - acc: 0.9828\n",
      "Epoch 4: val_acc did not improve from 0.86740\n",
      "313/313 [==============================] - 421s 1s/step - loss: 0.0506 - acc: 0.9828 - val_loss: 0.4898 - val_acc: 0.8604\n",
      "Epoch 4: early stopping\n"
     ]
    }
   ],
   "source": [
    "history = model.fit(np.array(x_tr_seq),np.array(y_tr),batch_size=128,epochs=10,validation_data=(np.array(x_val_seq),np.array(y_val)),verbose=1,callbacks=[es,mc])"
   ]
  },
  {
   "cell_type": "code",
   "execution_count": 11,
   "id": "5fe45620",
   "metadata": {},
   "outputs": [
    {
     "name": "stdout",
     "output_type": "stream",
     "text": [
      "40/40 [==============================] - 8s 188ms/step - loss: 0.3211 - acc: 0.8674\n",
      "0.8673999905586243\n"
     ]
    }
   ],
   "source": [
    "#loading best model\n",
    "from keras.models import load_model\n",
    "model = load_model('best_model.h5')\n",
    "\n",
    "#evaluation \n",
    "_,val_acc = model.evaluate(x_val_seq,y_val, batch_size=128)\n",
    "print(val_acc)"
   ]
  },
  {
   "cell_type": "code",
   "execution_count": 12,
   "id": "ca5a94b1",
   "metadata": {},
   "outputs": [
    {
     "name": "stdout",
     "output_type": "stream",
     "text": [
      "Loaded 400000 word vectors.\n"
     ]
    }
   ],
   "source": [
    "# load the whole embedding into memory\n",
    "embeddings_index = dict()\n",
    "f = open('D:/glove.6B.300d.txt')\n",
    "\n",
    "for line in f:\n",
    "    values = line.split()\n",
    "    word = values[0]\n",
    "    coefs = np.asarray(values[1:], dtype='float32')\n",
    "    embeddings_index[word] = coefs\n",
    "\n",
    "f.close()\n",
    "print('Loaded %s word vectors.' % len(embeddings_index))"
   ]
  },
  {
   "cell_type": "code",
   "execution_count": 13,
   "id": "b88d10e6",
   "metadata": {},
   "outputs": [],
   "source": [
    "# create a weight matrix for words in training docs\n",
    "embedding_matrix = np.zeros((size_of_vocabulary, 300))\n",
    "\n",
    "for word, i in tokenizer.word_index.items():\n",
    "    embedding_vector = embeddings_index.get(word)\n",
    "    if embedding_vector is not None:\n",
    "        embedding_matrix[i] = embedding_vector"
   ]
  },
  {
   "cell_type": "code",
   "execution_count": 14,
   "id": "40c75af6",
   "metadata": {},
   "outputs": [
    {
     "name": "stdout",
     "output_type": "stream",
     "text": [
      "Model: \"sequential_1\"\n",
      "_________________________________________________________________\n",
      " Layer (type)                Output Shape              Param #   \n",
      "=================================================================\n",
      " embedding_1 (Embedding)     (None, 100, 300)          33661200  \n",
      "                                                                 \n",
      " lstm_1 (LSTM)               (None, 100, 128)          219648    \n",
      "                                                                 \n",
      " global_max_pooling1d_1 (Glo  (None, 128)              0         \n",
      " balMaxPooling1D)                                                \n",
      "                                                                 \n",
      " dense_2 (Dense)             (None, 64)                8256      \n",
      "                                                                 \n",
      " dense_3 (Dense)             (None, 1)                 65        \n",
      "                                                                 \n",
      "=================================================================\n",
      "Total params: 33,889,169\n",
      "Trainable params: 227,969\n",
      "Non-trainable params: 33,661,200\n",
      "_________________________________________________________________\n",
      "None\n"
     ]
    }
   ],
   "source": [
    "model=Sequential()\n",
    "\n",
    "#embedding layer\n",
    "model.add(Embedding(size_of_vocabulary,300,weights=[embedding_matrix],input_length=100,trainable=False)) \n",
    "\n",
    "#lstm layer\n",
    "model.add(LSTM(128,return_sequences=True,dropout=0.2))\n",
    "\n",
    "#Global Maxpooling\n",
    "model.add(GlobalMaxPooling1D())\n",
    "\n",
    "#Dense Layer\n",
    "model.add(Dense(64,activation='relu')) \n",
    "model.add(Dense(1,activation='sigmoid')) \n",
    "\n",
    "#Add loss function, metrics, optimizer\n",
    "model.compile(optimizer='adam', loss='binary_crossentropy',metrics=[\"acc\"]) \n",
    "\n",
    "#Adding callbacks\n",
    "es = EarlyStopping(monitor='val_loss', mode='min', verbose=1,patience=3)  \n",
    "mc=ModelCheckpoint('best_model.h5', monitor='val_acc', mode='max', save_best_only=True,verbose=1)  \n",
    "\n",
    "\n",
    "#Print summary of model\n",
    "print(model.summary())"
   ]
  },
  {
   "cell_type": "code",
   "execution_count": 15,
   "id": "23492fa7",
   "metadata": {},
   "outputs": [
    {
     "name": "stdout",
     "output_type": "stream",
     "text": [
      "Epoch 1/10\n",
      "313/313 [==============================] - ETA: 0s - loss: 0.4475 - acc: 0.7813\n",
      "Epoch 1: val_acc improved from -inf to 0.84880, saving model to best_model.h5\n",
      "313/313 [==============================] - 196s 613ms/step - loss: 0.4475 - acc: 0.7813 - val_loss: 0.3506 - val_acc: 0.8488\n",
      "Epoch 2/10\n",
      "313/313 [==============================] - ETA: 0s - loss: 0.3396 - acc: 0.8499\n",
      "Epoch 2: val_acc improved from 0.84880 to 0.86260, saving model to best_model.h5\n",
      "313/313 [==============================] - 192s 615ms/step - loss: 0.3396 - acc: 0.8499 - val_loss: 0.3173 - val_acc: 0.8626\n",
      "Epoch 3/10\n",
      "313/313 [==============================] - ETA: 0s - loss: 0.3034 - acc: 0.8678\n",
      "Epoch 3: val_acc improved from 0.86260 to 0.87040, saving model to best_model.h5\n",
      "313/313 [==============================] - 193s 618ms/step - loss: 0.3034 - acc: 0.8678 - val_loss: 0.3019 - val_acc: 0.8704\n",
      "Epoch 4/10\n",
      "313/313 [==============================] - ETA: 0s - loss: 0.2694 - acc: 0.8848\n",
      "Epoch 4: val_acc did not improve from 0.87040\n",
      "313/313 [==============================] - 189s 604ms/step - loss: 0.2694 - acc: 0.8848 - val_loss: 0.3229 - val_acc: 0.8616\n",
      "Epoch 5/10\n",
      "313/313 [==============================] - ETA: 0s - loss: 0.2350 - acc: 0.9012\n",
      "Epoch 5: val_acc improved from 0.87040 to 0.87740, saving model to best_model.h5\n",
      "313/313 [==============================] - 190s 608ms/step - loss: 0.2350 - acc: 0.9012 - val_loss: 0.2901 - val_acc: 0.8774\n",
      "Epoch 6/10\n",
      "313/313 [==============================] - ETA: 0s - loss: 0.2093 - acc: 0.9146\n",
      "Epoch 6: val_acc improved from 0.87740 to 0.88020, saving model to best_model.h5\n",
      "313/313 [==============================] - 189s 603ms/step - loss: 0.2093 - acc: 0.9146 - val_loss: 0.2983 - val_acc: 0.8802\n",
      "Epoch 7/10\n",
      "313/313 [==============================] - ETA: 0s - loss: 0.1820 - acc: 0.9269\n",
      "Epoch 7: val_acc did not improve from 0.88020\n",
      "313/313 [==============================] - 184s 587ms/step - loss: 0.1820 - acc: 0.9269 - val_loss: 0.3104 - val_acc: 0.8770\n",
      "Epoch 8/10\n",
      "313/313 [==============================] - ETA: 0s - loss: 0.1611 - acc: 0.9377\n",
      "Epoch 8: val_acc did not improve from 0.88020\n",
      "313/313 [==============================] - 184s 587ms/step - loss: 0.1611 - acc: 0.9377 - val_loss: 0.3194 - val_acc: 0.8792\n",
      "Epoch 8: early stopping\n"
     ]
    }
   ],
   "source": [
    "history = model.fit(np.array(x_tr_seq),np.array(y_tr),batch_size=128,epochs=10,validation_data=(np.array(x_val_seq),np.array(y_val)),verbose=1,callbacks=[es,mc])"
   ]
  },
  {
   "cell_type": "code",
   "execution_count": 16,
   "id": "dd038dda",
   "metadata": {},
   "outputs": [
    {
     "name": "stdout",
     "output_type": "stream",
     "text": [
      "40/40 [==============================] - 11s 240ms/step - loss: 0.2983 - acc: 0.8802\n",
      "0.8802000284194946\n"
     ]
    }
   ],
   "source": [
    "#loading best model\n",
    "from keras.models import load_model\n",
    "model = load_model('best_model.h5')\n",
    "\n",
    "#evaluation \n",
    "_,val_acc = model.evaluate(x_val_seq,y_val, batch_size=128)\n",
    "print(val_acc)"
   ]
  }
 ],
 "metadata": {
  "kernelspec": {
   "display_name": "Python 3.10.0 ('Dashboard')",
   "language": "python",
   "name": "python3"
  },
  "language_info": {
   "codemirror_mode": {
    "name": "ipython",
    "version": 3
   },
   "file_extension": ".py",
   "mimetype": "text/x-python",
   "name": "python",
   "nbconvert_exporter": "python",
   "pygments_lexer": "ipython3",
   "version": "3.10.4"
  },
  "vscode": {
   "interpreter": {
    "hash": "c0ac7e3a78603eded295c13cb888a852f642d8a5ae626624043624aa89ce6bed"
   }
  }
 },
 "nbformat": 4,
 "nbformat_minor": 5
}
